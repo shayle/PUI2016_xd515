{
 "cells": [
  {
   "cell_type": "code",
   "execution_count": 1,
   "metadata": {
    "collapsed": true
   },
   "outputs": [],
   "source": [
    "import numpy as np\n",
    "import pandas as pd\n",
    "from scipy import stats"
   ]
  },
  {
   "cell_type": "code",
   "execution_count": 2,
   "metadata": {
    "collapsed": true
   },
   "outputs": [],
   "source": [
    "data = pd.read_csv(\"https://raw.github.com/kevinhan0/PUI2016_fb55/master/Lab3_fb55/times.txt\", header = None)\n",
    "data.columns = [\"Time\"]"
   ]
  },
  {
   "cell_type": "markdown",
   "metadata": {},
   "source": [
    "#### Is the new bus route improving commute?"
   ]
  },
  {
   "cell_type": "code",
   "execution_count": 3,
   "metadata": {
    "collapsed": false
   },
   "outputs": [
    {
     "name": "stdout",
     "output_type": "stream",
     "text": [
      "z-statistic = -2.556 p-value = 0.0053\n"
     ]
    }
   ],
   "source": [
    "mu_0 = 36; sigma = 6\n",
    "x_bar = np.mean(data.Time)\n",
    "n = len(data.Time)\n",
    "z_stat = (x_bar - mu_0)/(sigma/np.sqrt(n))\n",
    "pval = stats.norm.sf(np.abs(z_stat))\n",
    "print('z-statistic = %6.3f p-value = %6.4f' % (z_stat, pval))"
   ]
  },
  {
   "cell_type": "code",
   "execution_count": null,
   "metadata": {
    "collapsed": true
   },
   "outputs": [],
   "source": []
  }
 ],
 "metadata": {
  "kernelspec": {
   "display_name": "PUI2016_Python2",
   "language": "python",
   "name": "pui2016_python2"
  },
  "language_info": {
   "codemirror_mode": {
    "name": "ipython",
    "version": 2
   },
   "file_extension": ".py",
   "mimetype": "text/x-python",
   "name": "python",
   "nbconvert_exporter": "python",
   "pygments_lexer": "ipython2",
   "version": "2.7.12"
  }
 },
 "nbformat": 4,
 "nbformat_minor": 0
}
